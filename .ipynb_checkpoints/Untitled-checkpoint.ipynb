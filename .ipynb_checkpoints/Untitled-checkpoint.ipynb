{
 "cells": [
  {
   "cell_type": "code",
   "execution_count": 1,
   "id": "34bf5dbf-7de9-46e3-b0eb-14009871f608",
   "metadata": {},
   "outputs": [],
   "source": [
    "import pandas as pd\n",
    "import matplotlib.pyplot as plt\n",
    "plt.rcParams['figure.figsize'] = [15,9]\n",
    "%matplotlib inline\n",
    "df = pd.read_csv('data/crypto.csv')"
   ]
  },
  {
   "cell_type": "code",
   "execution_count": 2,
   "id": "c939e4b1-112b-4044-902f-ec61e4d2a351",
   "metadata": {},
   "outputs": [],
   "source": [
    "bitcoin_df = df[df['Asset_Name']==\"Bitcoin\"]"
   ]
  },
  {
   "cell_type": "code",
   "execution_count": 4,
   "id": "d4d88854-33ee-4017-808a-3050ba4a99a4",
   "metadata": {},
   "outputs": [],
   "source": [
    "close_list = bitcoin_df['Close'].to_list()"
   ]
  },
  {
   "cell_type": "code",
   "execution_count": 9,
   "id": "164fdaf6-e4c4-4f6f-89b0-3b73bd4036e2",
   "metadata": {},
   "outputs": [
    {
     "data": {
      "text/plain": [
       "60432.4792"
      ]
     },
     "execution_count": 9,
     "metadata": {},
     "output_type": "execute_result"
    }
   ],
   "source": [
    "lowest = close_list[0]\n",
    "gain = max(close_list) - lowest\n",
    "max_gain = max(close_list) - lowest\n",
    "\n",
    "for i in list(range(0, len(close_list))):\n",
    "    if close_list[i] < lowest:\n",
    "        lowest = close_list[i]\n",
    "        gain = max(close_list[i:]) - lowest\n",
    "        if gain > max_gain:\n",
    "            max_gain = gain\n",
    "        \n",
    "gain\n"
   ]
  },
  {
   "cell_type": "code",
   "execution_count": null,
   "id": "50aed943-65cb-4049-a2f9-a3b985321388",
   "metadata": {},
   "outputs": [],
   "source": []
  }
 ],
 "metadata": {
  "kernelspec": {
   "display_name": "Python 3 (ipykernel)",
   "language": "python",
   "name": "python3"
  },
  "language_info": {
   "codemirror_mode": {
    "name": "ipython",
    "version": 3
   },
   "file_extension": ".py",
   "mimetype": "text/x-python",
   "name": "python",
   "nbconvert_exporter": "python",
   "pygments_lexer": "ipython3",
   "version": "3.11.4"
  }
 },
 "nbformat": 4,
 "nbformat_minor": 5
}
