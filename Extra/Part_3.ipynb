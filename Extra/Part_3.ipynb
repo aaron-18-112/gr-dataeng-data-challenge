{
 "cells": [
  {
   "cell_type": "code",
   "execution_count": 1,
   "id": "c73af235-0f4c-4d30-933a-55dc49b7cffa",
   "metadata": {},
   "outputs": [],
   "source": [
    "import pandas as pd\n",
    "import matplotlib.pyplot as plt\n",
    "import numpy as np\n",
    "plt.rcParams['figure.figsize'] = [15,9]"
   ]
  },
  {
   "cell_type": "code",
   "execution_count": 2,
   "id": "3c1ed72d-2fb2-4d48-b99e-8efc5ffa1dd3",
   "metadata": {},
   "outputs": [],
   "source": [
    "df = pd.read_csv('data/crypto.csv')"
   ]
  },
  {
   "cell_type": "code",
   "execution_count": 3,
   "id": "548a953e-87b4-46a6-a7c4-6ae43d177973",
   "metadata": {},
   "outputs": [
    {
     "data": {
      "text/html": [
       "<div>\n",
       "<style scoped>\n",
       "    .dataframe tbody tr th:only-of-type {\n",
       "        vertical-align: middle;\n",
       "    }\n",
       "\n",
       "    .dataframe tbody tr th {\n",
       "        vertical-align: top;\n",
       "    }\n",
       "\n",
       "    .dataframe thead th {\n",
       "        text-align: right;\n",
       "    }\n",
       "</style>\n",
       "<table border=\"1\" class=\"dataframe\">\n",
       "  <thead>\n",
       "    <tr style=\"text-align: right;\">\n",
       "      <th></th>\n",
       "      <th>Asset_Name</th>\n",
       "      <th>timestamp</th>\n",
       "      <th>Close</th>\n",
       "    </tr>\n",
       "  </thead>\n",
       "  <tbody>\n",
       "    <tr>\n",
       "      <th>0</th>\n",
       "      <td>Bitcoin Cash</td>\n",
       "      <td>2018-01-01</td>\n",
       "      <td>2374.5900</td>\n",
       "    </tr>\n",
       "    <tr>\n",
       "      <th>1</th>\n",
       "      <td>Bitcoin Cash</td>\n",
       "      <td>2018-01-02</td>\n",
       "      <td>2323.3200</td>\n",
       "    </tr>\n",
       "    <tr>\n",
       "      <th>2</th>\n",
       "      <td>Bitcoin Cash</td>\n",
       "      <td>2018-01-03</td>\n",
       "      <td>2551.2850</td>\n",
       "    </tr>\n",
       "    <tr>\n",
       "      <th>3</th>\n",
       "      <td>Bitcoin Cash</td>\n",
       "      <td>2018-01-04</td>\n",
       "      <td>2557.6467</td>\n",
       "    </tr>\n",
       "    <tr>\n",
       "      <th>4</th>\n",
       "      <td>Bitcoin Cash</td>\n",
       "      <td>2018-01-05</td>\n",
       "      <td>2354.4433</td>\n",
       "    </tr>\n",
       "    <tr>\n",
       "      <th>...</th>\n",
       "      <td>...</td>\n",
       "      <td>...</td>\n",
       "      <td>...</td>\n",
       "    </tr>\n",
       "    <tr>\n",
       "      <th>18097</th>\n",
       "      <td>Dogecoin</td>\n",
       "      <td>2021-09-17</td>\n",
       "      <td>0.2416</td>\n",
       "    </tr>\n",
       "    <tr>\n",
       "      <th>18098</th>\n",
       "      <td>Dogecoin</td>\n",
       "      <td>2021-09-18</td>\n",
       "      <td>0.2401</td>\n",
       "    </tr>\n",
       "    <tr>\n",
       "      <th>18099</th>\n",
       "      <td>Dogecoin</td>\n",
       "      <td>2021-09-19</td>\n",
       "      <td>0.2413</td>\n",
       "    </tr>\n",
       "    <tr>\n",
       "      <th>18100</th>\n",
       "      <td>Dogecoin</td>\n",
       "      <td>2021-09-20</td>\n",
       "      <td>0.2331</td>\n",
       "    </tr>\n",
       "    <tr>\n",
       "      <th>18101</th>\n",
       "      <td>Dogecoin</td>\n",
       "      <td>2021-09-21</td>\n",
       "      <td>0.2083</td>\n",
       "    </tr>\n",
       "  </tbody>\n",
       "</table>\n",
       "<p>18102 rows × 3 columns</p>\n",
       "</div>"
      ],
      "text/plain": [
       "         Asset_Name   timestamp      Close\n",
       "0      Bitcoin Cash  2018-01-01  2374.5900\n",
       "1      Bitcoin Cash  2018-01-02  2323.3200\n",
       "2      Bitcoin Cash  2018-01-03  2551.2850\n",
       "3      Bitcoin Cash  2018-01-04  2557.6467\n",
       "4      Bitcoin Cash  2018-01-05  2354.4433\n",
       "...             ...         ...        ...\n",
       "18097      Dogecoin  2021-09-17     0.2416\n",
       "18098      Dogecoin  2021-09-18     0.2401\n",
       "18099      Dogecoin  2021-09-19     0.2413\n",
       "18100      Dogecoin  2021-09-20     0.2331\n",
       "18101      Dogecoin  2021-09-21     0.2083\n",
       "\n",
       "[18102 rows x 3 columns]"
      ]
     },
     "execution_count": 3,
     "metadata": {},
     "output_type": "execute_result"
    }
   ],
   "source": [
    "df"
   ]
  },
  {
   "cell_type": "code",
   "execution_count": 1,
   "id": "86b1c345-9f8b-4615-a921-02c429ff6041",
   "metadata": {},
   "outputs": [
    {
     "ename": "NameError",
     "evalue": "name 'df' is not defined",
     "output_type": "error",
     "traceback": [
      "\u001b[1;31m---------------------------------------------------------------------------\u001b[0m",
      "\u001b[1;31mNameError\u001b[0m                                 Traceback (most recent call last)",
      "Cell \u001b[1;32mIn[1], line 1\u001b[0m\n\u001b[1;32m----> 1\u001b[0m bit \u001b[38;5;241m=\u001b[39m \u001b[43mdf\u001b[49m[df[\u001b[38;5;124m'\u001b[39m\u001b[38;5;124mAsset_Name\u001b[39m\u001b[38;5;124m'\u001b[39m] \u001b[38;5;241m==\u001b[39m \u001b[38;5;124m'\u001b[39m\u001b[38;5;124mBitcoin\u001b[39m\u001b[38;5;124m'\u001b[39m]\u001b[38;5;241m.\u001b[39mcopy()\n\u001b[0;32m      2\u001b[0m bit\n",
      "\u001b[1;31mNameError\u001b[0m: name 'df' is not defined"
     ]
    }
   ],
   "source": [
    "bit = df[df['Asset_Name'] == 'Bitcoin'].copy()\n",
    "bit"
   ]
  },
  {
   "cell_type": "code",
   "execution_count": 5,
   "id": "fa0193ad-c6a6-485d-87e1-4ae2ed329bd6",
   "metadata": {},
   "outputs": [
    {
     "data": {
      "text/html": [
       "<div>\n",
       "<style scoped>\n",
       "    .dataframe tbody tr th:only-of-type {\n",
       "        vertical-align: middle;\n",
       "    }\n",
       "\n",
       "    .dataframe tbody tr th {\n",
       "        vertical-align: top;\n",
       "    }\n",
       "\n",
       "    .dataframe thead th {\n",
       "        text-align: right;\n",
       "    }\n",
       "</style>\n",
       "<table border=\"1\" class=\"dataframe\">\n",
       "  <thead>\n",
       "    <tr style=\"text-align: right;\">\n",
       "      <th></th>\n",
       "      <th>Asset_Name</th>\n",
       "      <th>timestamp</th>\n",
       "      <th>Close</th>\n",
       "    </tr>\n",
       "  </thead>\n",
       "  <tbody>\n",
       "    <tr>\n",
       "      <th>2720</th>\n",
       "      <td>Bitcoin</td>\n",
       "      <td>2018-01-01</td>\n",
       "      <td>13850.1760</td>\n",
       "    </tr>\n",
       "    <tr>\n",
       "      <th>2721</th>\n",
       "      <td>Bitcoin</td>\n",
       "      <td>2018-01-02</td>\n",
       "      <td>13468.6980</td>\n",
       "    </tr>\n",
       "    <tr>\n",
       "      <th>2722</th>\n",
       "      <td>Bitcoin</td>\n",
       "      <td>2018-01-03</td>\n",
       "      <td>14743.4240</td>\n",
       "    </tr>\n",
       "    <tr>\n",
       "      <th>2723</th>\n",
       "      <td>Bitcoin</td>\n",
       "      <td>2018-01-04</td>\n",
       "      <td>15107.7920</td>\n",
       "    </tr>\n",
       "    <tr>\n",
       "      <th>2724</th>\n",
       "      <td>Bitcoin</td>\n",
       "      <td>2018-01-05</td>\n",
       "      <td>15158.4920</td>\n",
       "    </tr>\n",
       "    <tr>\n",
       "      <th>...</th>\n",
       "      <td>...</td>\n",
       "      <td>...</td>\n",
       "      <td>...</td>\n",
       "    </tr>\n",
       "    <tr>\n",
       "      <th>4075</th>\n",
       "      <td>Bitcoin</td>\n",
       "      <td>2021-09-17</td>\n",
       "      <td>47769.5096</td>\n",
       "    </tr>\n",
       "    <tr>\n",
       "      <th>4076</th>\n",
       "      <td>Bitcoin</td>\n",
       "      <td>2021-09-18</td>\n",
       "      <td>47333.4914</td>\n",
       "    </tr>\n",
       "    <tr>\n",
       "      <th>4077</th>\n",
       "      <td>Bitcoin</td>\n",
       "      <td>2021-09-19</td>\n",
       "      <td>48295.5087</td>\n",
       "    </tr>\n",
       "    <tr>\n",
       "      <th>4078</th>\n",
       "      <td>Bitcoin</td>\n",
       "      <td>2021-09-20</td>\n",
       "      <td>47272.4743</td>\n",
       "    </tr>\n",
       "    <tr>\n",
       "      <th>4079</th>\n",
       "      <td>Bitcoin</td>\n",
       "      <td>2021-09-21</td>\n",
       "      <td>43002.5050</td>\n",
       "    </tr>\n",
       "  </tbody>\n",
       "</table>\n",
       "<p>1360 rows × 3 columns</p>\n",
       "</div>"
      ],
      "text/plain": [
       "     Asset_Name   timestamp       Close\n",
       "2720    Bitcoin  2018-01-01  13850.1760\n",
       "2721    Bitcoin  2018-01-02  13468.6980\n",
       "2722    Bitcoin  2018-01-03  14743.4240\n",
       "2723    Bitcoin  2018-01-04  15107.7920\n",
       "2724    Bitcoin  2018-01-05  15158.4920\n",
       "...         ...         ...         ...\n",
       "4075    Bitcoin  2021-09-17  47769.5096\n",
       "4076    Bitcoin  2021-09-18  47333.4914\n",
       "4077    Bitcoin  2021-09-19  48295.5087\n",
       "4078    Bitcoin  2021-09-20  47272.4743\n",
       "4079    Bitcoin  2021-09-21  43002.5050\n",
       "\n",
       "[1360 rows x 3 columns]"
      ]
     },
     "execution_count": 5,
     "metadata": {},
     "output_type": "execute_result"
    }
   ],
   "source": [
    "bit"
   ]
  },
  {
   "cell_type": "code",
   "execution_count": 6,
   "id": "d161c6a0-1697-4671-9360-d654092d699d",
   "metadata": {},
   "outputs": [],
   "source": [
    "value = bit['Close']\n",
    "bit2 = bit[(value > 20000)]\n",
    "bit2"
   ]
  },
  {
   "cell_type": "code",
   "execution_count": 7,
   "id": "71db8525-a339-4435-9447-72ad55376050",
   "metadata": {},
   "outputs": [
    {
     "data": {
      "text/html": [
       "<div>\n",
       "<style scoped>\n",
       "    .dataframe tbody tr th:only-of-type {\n",
       "        vertical-align: middle;\n",
       "    }\n",
       "\n",
       "    .dataframe tbody tr th {\n",
       "        vertical-align: top;\n",
       "    }\n",
       "\n",
       "    .dataframe thead th {\n",
       "        text-align: right;\n",
       "    }\n",
       "</style>\n",
       "<table border=\"1\" class=\"dataframe\">\n",
       "  <thead>\n",
       "    <tr style=\"text-align: right;\">\n",
       "      <th></th>\n",
       "      <th>Asset_Name</th>\n",
       "      <th>timestamp</th>\n",
       "      <th>Close</th>\n",
       "    </tr>\n",
       "  </thead>\n",
       "  <tbody>\n",
       "    <tr>\n",
       "      <th>3801</th>\n",
       "      <td>Bitcoin</td>\n",
       "      <td>2020-12-17</td>\n",
       "      <td>21363.8475</td>\n",
       "    </tr>\n",
       "    <tr>\n",
       "      <th>3802</th>\n",
       "      <td>Bitcoin</td>\n",
       "      <td>2020-12-18</td>\n",
       "      <td>22817.6387</td>\n",
       "    </tr>\n",
       "    <tr>\n",
       "      <th>3803</th>\n",
       "      <td>Bitcoin</td>\n",
       "      <td>2020-12-19</td>\n",
       "      <td>23154.7757</td>\n",
       "    </tr>\n",
       "    <tr>\n",
       "      <th>3804</th>\n",
       "      <td>Bitcoin</td>\n",
       "      <td>2020-12-20</td>\n",
       "      <td>23801.4457</td>\n",
       "    </tr>\n",
       "    <tr>\n",
       "      <th>3805</th>\n",
       "      <td>Bitcoin</td>\n",
       "      <td>2020-12-21</td>\n",
       "      <td>23440.4929</td>\n",
       "    </tr>\n",
       "    <tr>\n",
       "      <th>...</th>\n",
       "      <td>...</td>\n",
       "      <td>...</td>\n",
       "      <td>...</td>\n",
       "    </tr>\n",
       "    <tr>\n",
       "      <th>4075</th>\n",
       "      <td>Bitcoin</td>\n",
       "      <td>2021-09-17</td>\n",
       "      <td>47769.5096</td>\n",
       "    </tr>\n",
       "    <tr>\n",
       "      <th>4076</th>\n",
       "      <td>Bitcoin</td>\n",
       "      <td>2021-09-18</td>\n",
       "      <td>47333.4914</td>\n",
       "    </tr>\n",
       "    <tr>\n",
       "      <th>4077</th>\n",
       "      <td>Bitcoin</td>\n",
       "      <td>2021-09-19</td>\n",
       "      <td>48295.5087</td>\n",
       "    </tr>\n",
       "    <tr>\n",
       "      <th>4078</th>\n",
       "      <td>Bitcoin</td>\n",
       "      <td>2021-09-20</td>\n",
       "      <td>47272.4743</td>\n",
       "    </tr>\n",
       "    <tr>\n",
       "      <th>4079</th>\n",
       "      <td>Bitcoin</td>\n",
       "      <td>2021-09-21</td>\n",
       "      <td>43002.5050</td>\n",
       "    </tr>\n",
       "  </tbody>\n",
       "</table>\n",
       "<p>279 rows × 3 columns</p>\n",
       "</div>"
      ],
      "text/plain": [
       "     Asset_Name   timestamp       Close\n",
       "3801    Bitcoin  2020-12-17  21363.8475\n",
       "3802    Bitcoin  2020-12-18  22817.6387\n",
       "3803    Bitcoin  2020-12-19  23154.7757\n",
       "3804    Bitcoin  2020-12-20  23801.4457\n",
       "3805    Bitcoin  2020-12-21  23440.4929\n",
       "...         ...         ...         ...\n",
       "4075    Bitcoin  2021-09-17  47769.5096\n",
       "4076    Bitcoin  2021-09-18  47333.4914\n",
       "4077    Bitcoin  2021-09-19  48295.5087\n",
       "4078    Bitcoin  2021-09-20  47272.4743\n",
       "4079    Bitcoin  2021-09-21  43002.5050\n",
       "\n",
       "[279 rows x 3 columns]"
      ]
     },
     "execution_count": 7,
     "metadata": {},
     "output_type": "execute_result"
    }
   ],
   "source": [
    "bit2"
   ]
  },
  {
   "cell_type": "code",
   "execution_count": 8,
   "id": "e0c8d63c-73b4-4727-bcc2-27b84ff44abb",
   "metadata": {},
   "outputs": [
    {
     "name": "stdout",
     "output_type": "stream",
     "text": [
      "279\n"
     ]
    }
   ],
   "source": [
    "result = count_row = bit2.shape[0]\n",
    "print(result)"
   ]
  },
  {
   "cell_type": "code",
   "execution_count": 9,
   "id": "9b0be67a-d882-4f6a-9b11-bd0fb6eab4ac",
   "metadata": {},
   "outputs": [
    {
     "name": "stdout",
     "output_type": "stream",
     "text": [
      "0.2051470588235294\n"
     ]
    }
   ],
   "source": [
    "p = 279/1360\n",
    "print(p)        #Q1) probability = 0.21"
   ]
  },
  {
   "cell_type": "code",
   "execution_count": 10,
   "id": "050c1c47-84ed-40bb-b15b-02c83f83eb63",
   "metadata": {},
   "outputs": [
    {
     "name": "stdout",
     "output_type": "stream",
     "text": [
      "     Asset_Name   timestamp       Close      profit   profit*p\n",
      "2720    Bitcoin  2018-01-01  13850.1760  -6149.8240  -4.521929\n",
      "2721    Bitcoin  2018-01-02  13468.6980  -6531.3020  -4.802428\n",
      "2722    Bitcoin  2018-01-03  14743.4240  -5256.5760  -3.865129\n",
      "2723    Bitcoin  2018-01-04  15107.7920  -4892.2080  -3.597212\n",
      "2724    Bitcoin  2018-01-05  15158.4920  -4841.5080  -3.559932\n",
      "...         ...         ...         ...         ...        ...\n",
      "4075    Bitcoin  2021-09-17  47769.5096  27769.5096  20.418757\n",
      "4076    Bitcoin  2021-09-18  47333.4914  27333.4914  20.098155\n",
      "4077    Bitcoin  2021-09-19  48295.5087  28295.5087  20.805521\n",
      "4078    Bitcoin  2021-09-20  47272.4743  27272.4743  20.053290\n",
      "4079    Bitcoin  2021-09-21  43002.5050  23002.5050  16.913607\n",
      "\n",
      "[1360 rows x 5 columns]\n",
      "-4365.341555147057\n"
     ]
    }
   ],
   "source": [
    "bit['profit'] = bit['Close'] - 20000\n",
    "bit['profit*p'] = bit['profit'] * (1/1360)\n",
    "print(bit)\n",
    "print(bit['profit*p'].sum())"
   ]
  },
  {
   "cell_type": "code",
   "execution_count": 11,
   "id": "abb0a80a-aa3e-4240-928a-b5a694ccff57",
   "metadata": {},
   "outputs": [],
   "source": [
    "# Q2a) As the expected loss is 4365.341555147057 if you sell I would advise not to sell. As you don't buy anymore bitcoin you wont make a profit\n",
    "#      on top of your £20,000\n",
    "# Q2b) If you went back with cash, you would make a profit as youre buying at a lower price for one bitcoin. You would average a profit of 4365\n",
    "# Q3) Don't buy bitcoin at all because in 2021 prices were at a all time high and in 2022 they were lower than 2021"
   ]
  },
  {
   "cell_type": "code",
   "execution_count": 12,
   "id": "e19eacf5-a0cd-4dad-a4fc-db2d58e445b8",
   "metadata": {},
   "outputs": [],
   "source": []
  },
  {
   "cell_type": "code",
   "execution_count": null,
   "id": "8acac196-36bb-4648-a672-f3fa301cf43b",
   "metadata": {},
   "outputs": [],
   "source": []
  }
 ],
 "metadata": {
  "kernelspec": {
   "display_name": "Python 3 (ipykernel)",
   "language": "python",
   "name": "python3"
  },
  "language_info": {
   "codemirror_mode": {
    "name": "ipython",
    "version": 3
   },
   "file_extension": ".py",
   "mimetype": "text/x-python",
   "name": "python",
   "nbconvert_exporter": "python",
   "pygments_lexer": "ipython3",
   "version": "3.11.4"
  }
 },
 "nbformat": 4,
 "nbformat_minor": 5
}
